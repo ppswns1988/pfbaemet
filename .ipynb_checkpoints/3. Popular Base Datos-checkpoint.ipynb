{
 "cells": [
  {
   "cell_type": "code",
   "execution_count": 1,
   "id": "97665b2a-be6b-4a3d-9174-85d5fd84e72c",
   "metadata": {
    "tags": []
   },
   "outputs": [],
   "source": [
    "import pandas as pd\n",
    "import numpy as np\n",
    "import mysql # Para ver la versión\n",
    "import mysql.connector\n",
    "from mysql.connector import Error  \n",
    "import pymysql\n",
    "import traceback  # Asegúrate de incluir esta línea"
   ]
  },
  {
   "cell_type": "markdown",
   "id": "f1e7fd92-c1ac-4155-b38b-1f54d429cf61",
   "metadata": {},
   "source": [
    "**CREAR BASE DE DATOS**"
   ]
  },
  {
   "cell_type": "code",
   "execution_count": 3,
   "id": "ba41a9ae-9517-4af3-87d1-7f4572d0bc3e",
   "metadata": {
    "tags": []
   },
   "outputs": [],
   "source": [
    "\n",
    "database = \"AEMET\"\n",
    "\n",
    "def crear_database(database, host = \"localhost\", user = \"root\", password = \"password\"):\n",
    "\n",
    "    # Inicializar Connector\n",
    "    db = mysql.connector.connect(host     = \"localhost\",\n",
    "                                 user     = \"root\",\n",
    "                                 password = \"nueva_contraseña\",\n",
    "                                 database = None)\n",
    "    \n",
    "    # Iniciar Cursor\n",
    "    cursor = db.cursor()\n",
    "    \n",
    "    # Creamos la BBDD con la setencia de SQL y usando la variable cursor\n",
    "    cursor.execute(f\"CREATE DATABASE IF NOT EXISTS {database};\")\n",
    "    \n",
    "    # Finalizar Cursor - Cierra el cursor\n",
    "    cursor.close()\n",
    "    \n",
    "    # Finalizar Connector\n",
    "    db.close()"
   ]
  },
  {
   "cell_type": "code",
   "execution_count": 4,
   "id": "4b97a11b-b047-4f96-a428-4fe48fc82629",
   "metadata": {},
   "outputs": [],
   "source": [
    "crear_database(database, host = \"localhost\", user = \"root\", password = \"password\")"
   ]
  },
  {
   "cell_type": "markdown",
   "id": "332bc0ca-cbe8-456c-8cd8-96487ad85b7e",
   "metadata": {},
   "source": [
    "**CREAR TABLAS DENTRO DE LA BASE DE DATOS**"
   ]
  },
  {
   "cell_type": "code",
   "execution_count": 6,
   "id": "1bc7fa29-5a4a-4aef-97ad-5cd893253059",
   "metadata": {
    "tags": []
   },
   "outputs": [],
   "source": [
    "database = \"AEMET\"\n",
    "\n",
    "def execute_query(query, database, host = \"localhost\", user = \"root\", password = \"password\"):\n",
    "    \n",
    "    db = mysql.connector.connect(host     = \"localhost\",\n",
    "                                 user     = \"root\",\n",
    "                                 password = \"nueva_contraseña\",\n",
    "                                 database = database)\n",
    "    \n",
    "    cursor = db.cursor()\n",
    "    \n",
    "    cursor.execute(query)\n",
    "    \n",
    "    cursor.fetchall() # Vaciamos el cursor\n",
    "    cursor.close()\n",
    "    db.close()"
   ]
  },
  {
   "cell_type": "code",
   "execution_count": 7,
   "id": "26aa1158-e59a-4164-885e-becf06179279",
   "metadata": {},
   "outputs": [],
   "source": [
    "with open(\"../esquemas_sql/ciudad.txt\", \"r\") as file:\n",
    "    query = file.read()"
   ]
  },
  {
   "cell_type": "code",
   "execution_count": 8,
   "id": "43799f8d-4c20-4279-b551-5eb3a4416005",
   "metadata": {},
   "outputs": [
    {
     "data": {
      "text/plain": [
       "'CREATE TABLE IF NOT EXISTS ciudades (\\n    ciudad_id INT AUTO_INCREMENT PRIMARY KEY,\\n    ciudad VARCHAR(256))\\n;'"
      ]
     },
     "execution_count": 8,
     "metadata": {},
     "output_type": "execute_result"
    }
   ],
   "source": [
    "query"
   ]
  },
  {
   "cell_type": "code",
   "execution_count": 9,
   "id": "c32be804-30b0-40ae-b1ad-25204c3590ac",
   "metadata": {},
   "outputs": [],
   "source": [
    "execute_query(query = query, database = database)"
   ]
  },
  {
   "cell_type": "code",
   "execution_count": 10,
   "id": "964a9b1f-1ea0-45c4-bcba-7b2ade37a560",
   "metadata": {},
   "outputs": [],
   "source": [
    "with open(\"../esquemas_sql/provincia.txt\", \"r\") as file:\n",
    "    query = file.read()"
   ]
  },
  {
   "cell_type": "code",
   "execution_count": 11,
   "id": "f80cd3d0-deb8-443e-b9af-72d5ddeb5d18",
   "metadata": {},
   "outputs": [],
   "source": [
    "execute_query(query = query, database = database)"
   ]
  },
  {
   "cell_type": "code",
   "execution_count": 12,
   "id": "2e825bf8-71d3-4cce-a2e4-dd5d6fde0303",
   "metadata": {},
   "outputs": [],
   "source": [
    "with open(\"../esquemas_sql/indicativo.txt\", \"r\") as file:\n",
    "    query = file.read()"
   ]
  },
  {
   "cell_type": "code",
   "execution_count": 13,
   "id": "555e4874-4bd0-43e0-8300-9a3be0499d43",
   "metadata": {},
   "outputs": [],
   "source": [
    "execute_query(query = query, database = database)"
   ]
  },
  {
   "cell_type": "code",
   "execution_count": 14,
   "id": "b2535156-40df-448b-bf19-b8942dc79f5f",
   "metadata": {},
   "outputs": [],
   "source": [
    "with open(\"../esquemas_sql/valores_climatologicos.txt\", \"r\") as file:\n",
    "    query = file.read()"
   ]
  },
  {
   "cell_type": "code",
   "execution_count": 15,
   "id": "01562a27-522c-41e3-8dc9-af0ae767c6bd",
   "metadata": {},
   "outputs": [],
   "source": [
    "execute_query(query = query, database = database)"
   ]
  },
  {
   "cell_type": "markdown",
   "id": "e0071602-3136-47ab-8538-21d8ab4474e5",
   "metadata": {},
   "source": [
    "**INSERTAR DATOS**"
   ]
  },
  {
   "cell_type": "code",
   "execution_count": 17,
   "id": "96bdaf93-e279-43b5-9759-88d999153175",
   "metadata": {
    "tags": []
   },
   "outputs": [],
   "source": [
    "def insert_to_table(data, table, database, host = \"localhost\", user = \"root\", password = \"Estela080702.\"):\n",
    "    \n",
    "    db = mysql.connector.connect(host     = host,\n",
    "                                 user     = user,\n",
    "                                 password = password,\n",
    "                                 database = database) \n",
    "    cursor = db.cursor()\n",
    "\n",
    "    # Seleccionamos las columnas de la tabla, omitiendo la Primary Key\n",
    "    cursor.execute(f\"SELECT * FROM {table} LIMIT 0;\")\n",
    "    column_names = cursor.column_names[1:]\n",
    "    cursor.fetchall()\n",
    "\n",
    "    insert_query = f\"INSERT INTO {table} ({', '.join(column_names)}) VALUES ({', '.join(['%s' for _ in column_names])})\".replace(\"'\", \"\")\n",
    "    values = [tuple(row) for row in data]\n",
    "\n",
    "    # .executemany ejecuta el query de INSERT INTO con cada uno de los elementos de \"values\"\n",
    "    cursor.executemany(insert_query, values)\n",
    "    \n",
    "    # Guarda los resultados\n",
    "    db.commit()\n",
    "\n",
    "    print(f\"Añadidas: {cursor.rowcount} filas\")\n",
    "\n",
    "    cursor.fetchall() # Vaciamos el cursor\n",
    "    cursor.close()\n",
    "    db.close()"
   ]
  },
  {
   "cell_type": "code",
   "execution_count": 18,
   "id": "e686e891-a83a-45a8-a179-141a31f27441",
   "metadata": {
    "tags": []
   },
   "outputs": [],
   "source": [
    "### MODIFICA EL   \n",
    "\n",
    "def insert_to_table(data, table, database, host=\"localhost\", user=\"root\", password=\"nueva_contraseña\"):\n",
    "    db = None\n",
    "    cursor = None\n",
    "    try:\n",
    "        db = mysql.connector.connect(\n",
    "            host=host,\n",
    "            user=user,\n",
    "            password=password,\n",
    "            database=database,\n",
    "        )\n",
    "        cursor = db.cursor()\n",
    "\n",
    "        # Adjust server timeout settings\n",
    "        nuevo_timeout = 28800  # 8 hours in seconds\n",
    "        cursor.execute(f\"SET SESSION wait_timeout = {nuevo_timeout};\")\n",
    "        cursor.execute(f\"SET SESSION interactive_timeout = {nuevo_timeout};\")\n",
    "\n",
    "        # Select the columns from the table, omitting the Primary Key\n",
    "        cursor.execute(f\"SELECT * FROM {table} LIMIT 0;\")\n",
    "        column_names = cursor.column_names[1:]  # Assuming the first column is the Primary Key\n",
    "        cursor.fetchall()\n",
    "\n",
    "        insert_query = f\"INSERT INTO {table} ({', '.join(column_names)}) VALUES ({', '.join(['%s' for _ in column_names])})\"\n",
    "        values = [tuple(row) for row in data]\n",
    "\n",
    "        # Use executemany to execute the INSERT INTO query with each of the elements in \"values\"\n",
    "        cursor.executemany(insert_query, values)\n",
    "\n",
    "        # Save the results\n",
    "        db.commit()\n",
    "\n",
    "        print(f\"Añadidas: {cursor.rowcount} filas\")\n",
    "\n",
    "    except Error as e:\n",
    "        print(f\"Error: {e}\")\n",
    "        traceback.print_exc()\n",
    "\n",
    "    finally:\n",
    "        if cursor:\n",
    "            cursor.close()\n",
    "        if db and db.is_connected():\n",
    "            db.close()"
   ]
  },
  {
   "cell_type": "code",
   "execution_count": 19,
   "id": "0f11c13b-fa79-4b8d-b6d9-b6346ebb7652",
   "metadata": {},
   "outputs": [
    {
     "name": "stdout",
     "output_type": "stream",
     "text": [
      "Añadidas: 921 filas\n"
     ]
    }
   ],
   "source": [
    "\n",
    "\n",
    "data = pd.read_csv(\"ciudades.csv\", index_col=0).values\n",
    "table = \"ciudades\"\n",
    "database = \"AEMET\"\n",
    "\n",
    "insert_to_table(data = data, table = table, database = database)"
   ]
  },
  {
   "cell_type": "code",
   "execution_count": 20,
   "id": "08a792af-2203-4684-916a-49c8e8b14a78",
   "metadata": {},
   "outputs": [
    {
     "name": "stdout",
     "output_type": "stream",
     "text": [
      "Añadidas: 53 filas\n"
     ]
    }
   ],
   "source": [
    "data = pd.read_csv(\"provincia.csv\", index_col=0).values\n",
    "table = \"provincias\"\n",
    "database = \"AEMET\"\n",
    "\n",
    "insert_to_table(data = data, table = table, database = database)"
   ]
  },
  {
   "cell_type": "code",
   "execution_count": 21,
   "id": "c78ae9de-28ee-4528-8da8-2b0d26d20750",
   "metadata": {},
   "outputs": [
    {
     "name": "stdout",
     "output_type": "stream",
     "text": [
      "Añadidas: 928 filas\n"
     ]
    }
   ],
   "source": [
    "data = pd.read_csv(\"indicativo.csv\", index_col=0).replace({np.nan : None}).values\n",
    "table = \"indicativos\"\n",
    "database = \"AEMET\"\n",
    "\n",
    "insert_to_table(data = data, table = table, database = database)"
   ]
  },
  {
   "cell_type": "code",
   "execution_count": 22,
   "id": "4c4df91b-73d9-48fb-8808-8508554e6783",
   "metadata": {
    "tags": []
   },
   "outputs": [
    {
     "name": "stdout",
     "output_type": "stream",
     "text": [
      "Añadidas: 287130 filas\n"
     ]
    }
   ],
   "source": [
    "data = pd.read_csv(\"df_13.csv\").replace({np.nan : None}).values\n",
    "table = \"valores_climatologicos\"\n",
    "database = \"AEMET\"\n",
    "\n",
    "insert_to_table(data = data, table = table, database = database)"
   ]
  },
  {
   "cell_type": "code",
   "execution_count": 23,
   "id": "6e700a45-bb3e-4f58-ba73-c3df1d8a6b47",
   "metadata": {
    "tags": []
   },
   "outputs": [
    {
     "name": "stdout",
     "output_type": "stream",
     "text": [
      "Añadidas: 298140 filas\n"
     ]
    }
   ],
   "source": [
    "data = pd.read_csv(\"df_14.csv\").replace({np.nan : None}).values\n",
    "table = \"valores_climatologicos\"\n",
    "database = \"AEMET\"\n",
    "\n",
    "insert_to_table(data = data, table = table, database = database)"
   ]
  },
  {
   "cell_type": "code",
   "execution_count": 24,
   "id": "008f3758-3a4b-4c1c-8f36-66de48eae3d2",
   "metadata": {
    "tags": []
   },
   "outputs": [
    {
     "name": "stdout",
     "output_type": "stream",
     "text": [
      "Añadidas: 304127 filas\n"
     ]
    }
   ],
   "source": [
    "data = pd.read_csv(\"df_15.csv\").replace({np.nan : None}).values\n",
    "table = \"valores_climatologicos\"\n",
    "database = \"AEMET\"\n",
    "\n",
    "insert_to_table(data = data, table = table, database = database)"
   ]
  },
  {
   "cell_type": "code",
   "execution_count": 25,
   "id": "9dda2def-ea76-4273-b291-670cfcc98622",
   "metadata": {
    "tags": []
   },
   "outputs": [
    {
     "name": "stdout",
     "output_type": "stream",
     "text": [
      "Error: 1153 (08S01): Got a packet bigger than 'max_allowed_packet' bytes\n"
     ]
    },
    {
     "name": "stderr",
     "output_type": "stream",
     "text": [
      "Traceback (most recent call last):\n",
      "  File \"/opt/anaconda3/lib/python3.12/site-packages/mysql/connector/connection_cext.py\", line 705, in cmd_query\n",
      "    self._cmysql.query(\n",
      "_mysql_connector.MySQLInterfaceError: Got a packet bigger than 'max_allowed_packet' bytes\n",
      "\n",
      "The above exception was the direct cause of the following exception:\n",
      "\n",
      "Traceback (most recent call last):\n",
      "  File \"/var/folders/9m/h9bqsnt95t3bplz2w4d9fm4h0000gn/T/ipykernel_7371/45356969.py\", line 29, in insert_to_table\n",
      "    cursor.executemany(insert_query, values)\n",
      "  File \"/opt/anaconda3/lib/python3.12/site-packages/mysql/connector/cursor_cext.py\", line 484, in executemany\n",
      "    return self.execute(stmt)\n",
      "           ^^^^^^^^^^^^^^^^^^\n",
      "  File \"/opt/anaconda3/lib/python3.12/site-packages/mysql/connector/cursor_cext.py\", line 357, in execute\n",
      "    result = self._connection.cmd_query(\n",
      "             ^^^^^^^^^^^^^^^^^^^^^^^^^^^\n",
      "  File \"/opt/anaconda3/lib/python3.12/site-packages/mysql/connector/opentelemetry/context_propagation.py\", line 97, in wrapper\n",
      "    return method(cnx, *args, **kwargs)\n",
      "           ^^^^^^^^^^^^^^^^^^^^^^^^^^^^\n",
      "  File \"/opt/anaconda3/lib/python3.12/site-packages/mysql/connector/connection_cext.py\", line 713, in cmd_query\n",
      "    raise get_mysql_exception(\n",
      "mysql.connector.errors.OperationalError: 1153 (08S01): Got a packet bigger than 'max_allowed_packet' bytes\n"
     ]
    }
   ],
   "source": [
    "#AVISO, este año requiere en algunos casos solicitar \n",
    "#a MYSQL ampliar la capacidad de filas que se insertan.\n",
    "\n",
    "data = pd.read_csv(\"df_16.csv\").replace({np.nan : None}).values\n",
    "table = \"valores_climatologicos\"\n",
    "database = \"AEMET\"\n",
    "\n",
    "insert_to_table(data = data, table = table, database = database)"
   ]
  },
  {
   "cell_type": "code",
   "execution_count": 26,
   "id": "34d1f1be-e898-4fbe-87cc-1aa2b38cb2d7",
   "metadata": {
    "tags": []
   },
   "outputs": [
    {
     "name": "stdout",
     "output_type": "stream",
     "text": [
      "Añadidas: 309965 filas\n"
     ]
    }
   ],
   "source": [
    "data = pd.read_csv(\"df_17.csv\").replace({np.nan : None}).values\n",
    "table = \"valores_climatologicos\"\n",
    "database = \"AEMET\"\n",
    "\n",
    "insert_to_table(data = data, table = table, database = database)"
   ]
  },
  {
   "cell_type": "code",
   "execution_count": 27,
   "id": "cb8e5cdd-eb7b-4e44-be77-290bffa3071b",
   "metadata": {
    "tags": []
   },
   "outputs": [
    {
     "name": "stdout",
     "output_type": "stream",
     "text": [
      "Añadidas: 309918 filas\n"
     ]
    }
   ],
   "source": [
    "data = pd.read_csv(\"df_18.csv\").replace({np.nan : None}).values\n",
    "table = \"valores_climatologicos\"\n",
    "database = \"AEMET\"\n",
    "\n",
    "insert_to_table(data = data, table = table, database = database)"
   ]
  },
  {
   "cell_type": "code",
   "execution_count": 28,
   "id": "0712d508-94e1-4c92-ac46-f705a00663b9",
   "metadata": {
    "tags": []
   },
   "outputs": [
    {
     "name": "stdout",
     "output_type": "stream",
     "text": [
      "Añadidas: 312037 filas\n"
     ]
    }
   ],
   "source": [
    "data = pd.read_csv(\"df_19.csv\").replace({np.nan : None}).values\n",
    "table = \"valores_climatologicos\"\n",
    "database = \"AEMET\"\n",
    "\n",
    "insert_to_table(data = data, table = table, database = database)"
   ]
  },
  {
   "cell_type": "code",
   "execution_count": 29,
   "id": "f22b7670-ec96-4aaf-bdbd-b13351594ab1",
   "metadata": {
    "tags": []
   },
   "outputs": [
    {
     "name": "stdout",
     "output_type": "stream",
     "text": [
      "Añadidas: 312958 filas\n"
     ]
    }
   ],
   "source": [
    "data = pd.read_csv(\"df_20.csv\").replace({np.nan : None}).values\n",
    "table = \"valores_climatologicos\"\n",
    "database = \"AEMET\"\n",
    "\n",
    "insert_to_table(data = data, table = table, database = database)"
   ]
  },
  {
   "cell_type": "code",
   "execution_count": 30,
   "id": "46df4ce1-327a-4dc3-8c00-b18cd541dfca",
   "metadata": {
    "tags": []
   },
   "outputs": [
    {
     "name": "stdout",
     "output_type": "stream",
     "text": [
      "Añadidas: 316663 filas\n"
     ]
    }
   ],
   "source": [
    "data = pd.read_csv(\"df_21.csv\").replace({np.nan : None}).values\n",
    "table = \"valores_climatologicos\"\n",
    "database = \"AEMET\"\n",
    "\n",
    "insert_to_table(data = data, table = table, database = database)"
   ]
  },
  {
   "cell_type": "code",
   "execution_count": 31,
   "id": "a12a0109-ac3f-43df-a211-8034c360c166",
   "metadata": {
    "tags": []
   },
   "outputs": [
    {
     "name": "stdout",
     "output_type": "stream",
     "text": [
      "Añadidas: 317963 filas\n"
     ]
    }
   ],
   "source": [
    "data = pd.read_csv(\"df_22.csv\").replace({np.nan : None}).values\n",
    "table = \"valores_climatologicos\"\n",
    "database = \"AEMET\"\n",
    "\n",
    "insert_to_table(data = data, table = table, database = database)"
   ]
  },
  {
   "cell_type": "code",
   "execution_count": 32,
   "id": "79467612-cbca-4289-9a69-461453bcf37e",
   "metadata": {},
   "outputs": [
    {
     "name": "stdout",
     "output_type": "stream",
     "text": [
      "Añadidas: 320548 filas\n"
     ]
    }
   ],
   "source": [
    "data = pd.read_csv(\"df_23.csv\").replace({np.nan : None}).values\n",
    "table = \"valores_climatologicos\"\n",
    "database = \"AEMET\"\n",
    "\n",
    "insert_to_table(data = data, table = table, database = database)"
   ]
  },
  {
   "cell_type": "code",
   "execution_count": 33,
   "id": "ed4f62b7-842a-41ce-8c79-9e93d93a4265",
   "metadata": {},
   "outputs": [
    {
     "name": "stdout",
     "output_type": "stream",
     "text": [
      "Añadidas: 294584 filas\n"
     ]
    }
   ],
   "source": [
    "data = pd.read_csv(\"df_24.csv\").replace({np.nan : None}).values\n",
    "table = \"valores_climatologicos\"\n",
    "database = \"AEMET\"\n",
    "\n",
    "insert_to_table(data = data, table = table, database = database)"
   ]
  },
  {
   "cell_type": "code",
   "execution_count": null,
   "id": "9df54f9e-7e36-40be-a49c-3670185987b8",
   "metadata": {},
   "outputs": [],
   "source": []
  },
  {
   "cell_type": "code",
   "execution_count": null,
   "id": "3b72609c-db8a-4449-9b43-2cf929c596c0",
   "metadata": {},
   "outputs": [],
   "source": []
  },
  {
   "cell_type": "code",
   "execution_count": null,
   "id": "e0c035c9-de30-475b-aaec-f37ad9df75f2",
   "metadata": {},
   "outputs": [],
   "source": []
  },
  {
   "cell_type": "code",
   "execution_count": null,
   "id": "93e9075b-6db6-43b0-a6a0-b280cdb37161",
   "metadata": {},
   "outputs": [],
   "source": []
  }
 ],
 "metadata": {
  "kernelspec": {
   "display_name": "Python 3 (ipykernel)",
   "language": "python",
   "name": "python3"
  },
  "language_info": {
   "codemirror_mode": {
    "name": "ipython",
    "version": 3
   },
   "file_extension": ".py",
   "mimetype": "text/x-python",
   "name": "python",
   "nbconvert_exporter": "python",
   "pygments_lexer": "ipython3",
   "version": "3.12.2"
  }
 },
 "nbformat": 4,
 "nbformat_minor": 5
}
