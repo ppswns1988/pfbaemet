{
 "cells": [
  {
   "cell_type": "code",
   "execution_count": 35,
   "id": "dc197b6c-189d-446c-9bc1-b5060e391175",
   "metadata": {},
   "outputs": [],
   "source": [
    "import pandas as pd\n",
    "import numpy as np\n",
    "import folium\n",
    "import geopandas as gpd\n",
    "import matplotlib.pyplot as plt\n",
    "import mysql # Para ver la versión\n",
    "import mysql.connector\n",
    "import pymysql"
   ]
  },
  {
   "cell_type": "code",
   "execution_count": 37,
   "id": "4d8afc1f-d9f9-46ad-bec5-daeac53e8de0",
   "metadata": {},
   "outputs": [],
   "source": [
    "query = f\"\"\"SELECT tmed\n",
    "FROM \n",
    "    valores_climatologicos\"\"\""
   ]
  },
  {
   "cell_type": "code",
   "execution_count": 38,
   "id": "d9df96db-a4bf-419b-872f-79b7c63182b1",
   "metadata": {},
   "outputs": [],
   "source": [
    "database = \"AEMET\"\n",
    "\n",
    "db = mysql.connector.connect(host     = \"localhost\",\n",
    "                             user     = \"root\",\n",
    "                             password = \"nueva_contraseña\",\n",
    "                             database = database)\n",
    "\n",
    "cursor = db.cursor()\n",
    "\n",
    "cursor.execute(query) # Ejecutamos la query\n",
    "column_names = cursor.column_names # Nombre de las columnas de la tabla\n",
    "\n",
    "# Guardamos los datos de la tabla\n",
    "data = cursor.fetchall()\n",
    "\n",
    "\n",
    "df = pd.DataFrame(data)\n",
    "\n",
    "cursor.close()\n",
    "db.close()"
   ]
  },
  {
   "cell_type": "code",
   "execution_count": 41,
   "id": "a7870317-fdea-480c-8868-07346678845c",
   "metadata": {},
   "outputs": [
    {
     "data": {
      "text/plain": [
       "0    \n",
       "False    889763\n",
       "True      18783\n",
       "Name: count, dtype: int64"
      ]
     },
     "execution_count": 41,
     "metadata": {},
     "output_type": "execute_result"
    }
   ],
   "source": [
    "#NAN'S TEMPERATURA MEDIA - Sólo un dos por ciento de las temperaturas son NaN's\n",
    "df.astype(float)\n",
    "df.isna().value_counts()"
   ]
  },
  {
   "cell_type": "code",
   "execution_count": 43,
   "id": "f52495bb-a896-438c-be7b-4de018c90c1c",
   "metadata": {},
   "outputs": [],
   "source": [
    "#df[3].mean() = 16.38 ºC\n",
    "#df[3].max() = 40.4 ºC\n",
    "#df[3].min() = -15.0 ºC"
   ]
  },
  {
   "cell_type": "code",
   "execution_count": 51,
   "id": "1f7dfad8-d76b-41f5-ae31-5e9afc79033e",
   "metadata": {},
   "outputs": [],
   "source": [
    "# Conclusión: al ser pocas filas las que tienen valores NaN's, sólo un 2%, se opta por eliminar esas filas\n",
    "# ya que consideramos que no va a afectar mucho al resultado del modelo.\n",
    "\n",
    "df = df.dropna()"
   ]
  },
  {
   "cell_type": "code",
   "execution_count": 59,
   "id": "187a447b-6153-4df5-858f-507be6063cd0",
   "metadata": {},
   "outputs": [],
   "source": [
    "df = df.rename(columns = {0 : \"temperatura\"})"
   ]
  },
  {
   "cell_type": "code",
   "execution_count": 61,
   "id": "b49b4a21-9be4-412a-8804-dbb60d0eb700",
   "metadata": {},
   "outputs": [
    {
     "data": {
      "text/html": [
       "<div>\n",
       "<style scoped>\n",
       "    .dataframe tbody tr th:only-of-type {\n",
       "        vertical-align: middle;\n",
       "    }\n",
       "\n",
       "    .dataframe tbody tr th {\n",
       "        vertical-align: top;\n",
       "    }\n",
       "\n",
       "    .dataframe thead th {\n",
       "        text-align: right;\n",
       "    }\n",
       "</style>\n",
       "<table border=\"1\" class=\"dataframe\">\n",
       "  <thead>\n",
       "    <tr style=\"text-align: right;\">\n",
       "      <th></th>\n",
       "      <th>temperatura</th>\n",
       "    </tr>\n",
       "  </thead>\n",
       "  <tbody>\n",
       "    <tr>\n",
       "      <th>0</th>\n",
       "      <td>19.8</td>\n",
       "    </tr>\n",
       "    <tr>\n",
       "      <th>1</th>\n",
       "      <td>10.2</td>\n",
       "    </tr>\n",
       "    <tr>\n",
       "      <th>2</th>\n",
       "      <td>13.6</td>\n",
       "    </tr>\n",
       "    <tr>\n",
       "      <th>3</th>\n",
       "      <td>14.8</td>\n",
       "    </tr>\n",
       "    <tr>\n",
       "      <th>4</th>\n",
       "      <td>6.4</td>\n",
       "    </tr>\n",
       "    <tr>\n",
       "      <th>...</th>\n",
       "      <td>...</td>\n",
       "    </tr>\n",
       "    <tr>\n",
       "      <th>908539</th>\n",
       "      <td>12.8</td>\n",
       "    </tr>\n",
       "    <tr>\n",
       "      <th>908540</th>\n",
       "      <td>15.2</td>\n",
       "    </tr>\n",
       "    <tr>\n",
       "      <th>908541</th>\n",
       "      <td>13.2</td>\n",
       "    </tr>\n",
       "    <tr>\n",
       "      <th>908544</th>\n",
       "      <td>17.0</td>\n",
       "    </tr>\n",
       "    <tr>\n",
       "      <th>908545</th>\n",
       "      <td>16.5</td>\n",
       "    </tr>\n",
       "  </tbody>\n",
       "</table>\n",
       "<p>889763 rows × 1 columns</p>\n",
       "</div>"
      ],
      "text/plain": [
       "        temperatura\n",
       "0              19.8\n",
       "1              10.2\n",
       "2              13.6\n",
       "3              14.8\n",
       "4               6.4\n",
       "...             ...\n",
       "908539         12.8\n",
       "908540         15.2\n",
       "908541         13.2\n",
       "908544         17.0\n",
       "908545         16.5\n",
       "\n",
       "[889763 rows x 1 columns]"
      ]
     },
     "execution_count": 61,
     "metadata": {},
     "output_type": "execute_result"
    }
   ],
   "source": [
    "df"
   ]
  },
  {
   "cell_type": "code",
   "execution_count": null,
   "id": "fe65424e-df08-4bc8-90cd-058e39d569ff",
   "metadata": {},
   "outputs": [],
   "source": []
  },
  {
   "cell_type": "code",
   "execution_count": null,
   "id": "6bd02d11-3141-41f9-9f0c-575d7371d4bf",
   "metadata": {},
   "outputs": [],
   "source": []
  },
  {
   "cell_type": "code",
   "execution_count": null,
   "id": "084cc399-df75-4685-9d01-efea392c7461",
   "metadata": {},
   "outputs": [],
   "source": []
  },
  {
   "cell_type": "code",
   "execution_count": null,
   "id": "544c4d2b-d733-4cf5-9703-5d55ed8f072e",
   "metadata": {},
   "outputs": [],
   "source": []
  }
 ],
 "metadata": {
  "kernelspec": {
   "display_name": "Python 3 (ipykernel)",
   "language": "python",
   "name": "python3"
  },
  "language_info": {
   "codemirror_mode": {
    "name": "ipython",
    "version": 3
   },
   "file_extension": ".py",
   "mimetype": "text/x-python",
   "name": "python",
   "nbconvert_exporter": "python",
   "pygments_lexer": "ipython3",
   "version": "3.12.4"
  }
 },
 "nbformat": 4,
 "nbformat_minor": 5
}
