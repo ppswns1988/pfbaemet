{
 "cells": [
  {
   "cell_type": "code",
   "execution_count": 1,
   "id": "cb76f075-b805-4738-98ef-17aeaa83f777",
   "metadata": {},
   "outputs": [],
   "source": [
    "# Python\n",
    "import pandas as pd\n",
    "import matplotlib.pyplot as plt\n",
    "from prophet import Prophet\n",
    "import mysql\n",
    "import mysql.connector\n",
    "import pymysql"
   ]
  },
  {
   "cell_type": "code",
   "execution_count": 2,
   "id": "4ef0f5d6-f046-4a2d-83a3-51f3f47c273c",
   "metadata": {},
   "outputs": [],
   "source": [
    "query = f\"\"\"SELECT fecha,tmed,\n",
    "tmin, tmax\n",
    "FROM valores_climatologicos\n",
    "WHERE\n",
    "YEAR(fecha)\n",
    "BETWEEN 2020 AND 2024\n",
    "\"\"\""
   ]
  },
  {
   "cell_type": "code",
   "execution_count": 3,
   "id": "2e507f5c-4b9b-4e22-b393-0338fd8e9d08",
   "metadata": {},
   "outputs": [],
   "source": [
    "database = \"AEMET\"\n",
    "\n",
    "db = mysql.connector.connect(host     = \"localhost\",\n",
    "                             user     = \"root\",\n",
    "                             password = \"nueva_contraseña\",\n",
    "                             database = database)\n",
    "\n",
    "cursor = db.cursor()\n",
    "\n",
    "cursor.execute(query) # Ejecutamos la query\n",
    "column_names = cursor.column_names # Nombre de las columnas de la tabla\n",
    "\n",
    "# Guardamos los datos de la tabla\n",
    "data = cursor.fetchall()\n",
    "\n",
    "\n",
    "df = pd.DataFrame(data, columns = column_names)\n",
    "\n",
    "cursor.close()\n",
    "db.close()"
   ]
  },
  {
   "cell_type": "code",
   "execution_count": 4,
   "id": "02238f54-046d-4b22-8599-c9e3994c286b",
   "metadata": {},
   "outputs": [
    {
     "data": {
      "text/html": [
       "<div>\n",
       "<style scoped>\n",
       "    .dataframe tbody tr th:only-of-type {\n",
       "        vertical-align: middle;\n",
       "    }\n",
       "\n",
       "    .dataframe tbody tr th {\n",
       "        vertical-align: top;\n",
       "    }\n",
       "\n",
       "    .dataframe thead th {\n",
       "        text-align: right;\n",
       "    }\n",
       "</style>\n",
       "<table border=\"1\" class=\"dataframe\">\n",
       "  <thead>\n",
       "    <tr style=\"text-align: right;\">\n",
       "      <th></th>\n",
       "      <th>fecha</th>\n",
       "      <th>tmed</th>\n",
       "    </tr>\n",
       "  </thead>\n",
       "  <tbody>\n",
       "    <tr>\n",
       "      <th>0</th>\n",
       "      <td>2013-01-01</td>\n",
       "      <td>8.1</td>\n",
       "    </tr>\n",
       "    <tr>\n",
       "      <th>1</th>\n",
       "      <td>2013-01-01</td>\n",
       "      <td>7.0</td>\n",
       "    </tr>\n",
       "    <tr>\n",
       "      <th>2</th>\n",
       "      <td>2013-01-01</td>\n",
       "      <td>4.9</td>\n",
       "    </tr>\n",
       "    <tr>\n",
       "      <th>3</th>\n",
       "      <td>2013-01-01</td>\n",
       "      <td>8.8</td>\n",
       "    </tr>\n",
       "    <tr>\n",
       "      <th>4</th>\n",
       "      <td>2013-01-01</td>\n",
       "      <td>13.1</td>\n",
       "    </tr>\n",
       "    <tr>\n",
       "      <th>...</th>\n",
       "      <td>...</td>\n",
       "      <td>...</td>\n",
       "    </tr>\n",
       "    <tr>\n",
       "      <th>7336000</th>\n",
       "      <td>2024-11-01</td>\n",
       "      <td>13.2</td>\n",
       "    </tr>\n",
       "    <tr>\n",
       "      <th>7336001</th>\n",
       "      <td>2024-11-01</td>\n",
       "      <td>NaN</td>\n",
       "    </tr>\n",
       "    <tr>\n",
       "      <th>7336002</th>\n",
       "      <td>2024-11-01</td>\n",
       "      <td>NaN</td>\n",
       "    </tr>\n",
       "    <tr>\n",
       "      <th>7336003</th>\n",
       "      <td>2024-11-01</td>\n",
       "      <td>17.0</td>\n",
       "    </tr>\n",
       "    <tr>\n",
       "      <th>7336004</th>\n",
       "      <td>2024-11-01</td>\n",
       "      <td>16.5</td>\n",
       "    </tr>\n",
       "  </tbody>\n",
       "</table>\n",
       "<p>7336005 rows × 2 columns</p>\n",
       "</div>"
      ],
      "text/plain": [
       "              fecha  tmed\n",
       "0        2013-01-01   8.1\n",
       "1        2013-01-01   7.0\n",
       "2        2013-01-01   4.9\n",
       "3        2013-01-01   8.8\n",
       "4        2013-01-01  13.1\n",
       "...             ...   ...\n",
       "7336000  2024-11-01  13.2\n",
       "7336001  2024-11-01   NaN\n",
       "7336002  2024-11-01   NaN\n",
       "7336003  2024-11-01  17.0\n",
       "7336004  2024-11-01  16.5\n",
       "\n",
       "[7336005 rows x 2 columns]"
      ]
     },
     "execution_count": 4,
     "metadata": {},
     "output_type": "execute_result"
    }
   ],
   "source": [
    "df = df[[\"fecha\", \"tmed\"]]\n",
    "df"
   ]
  },
  {
   "cell_type": "code",
   "execution_count": 5,
   "id": "411cdca7-a371-44d5-b178-4d61e3eb0bc8",
   "metadata": {},
   "outputs": [],
   "source": [
    "df = df[[\"fecha\", \"tmed\"]]\n",
    "df.rename(columns = {\"fecha\" : \"ds\",\n",
    "                     \"tmed\" : \"y\"}, inplace=True)\n",
    "df['ds'] = pd.to_datetime(df['ds'])"
   ]
  },
  {
   "cell_type": "code",
   "execution_count": null,
   "id": "57ead46a-1935-484f-aa4e-785032e0c5d9",
   "metadata": {},
   "outputs": [
    {
     "name": "stderr",
     "output_type": "stream",
     "text": [
      "19:36:08 - cmdstanpy - INFO - Chain [1] start processing\n"
     ]
    }
   ],
   "source": [
    "#MODELO\n",
    "\n",
    "m = Prophet(interval_width=0.95)\n",
    "m.fit(df)"
   ]
  },
  {
   "cell_type": "code",
   "execution_count": null,
   "id": "89265eec-5a7b-4784-bba1-05e9a797ad74",
   "metadata": {},
   "outputs": [],
   "source": [
    "future = m.make_future_dataframe(periods=365)\n",
    "future.tail()\n"
   ]
  },
  {
   "cell_type": "code",
   "execution_count": null,
   "id": "b99cb825-941b-4e53-bd97-f4b145d55f2e",
   "metadata": {},
   "outputs": [],
   "source": [
    "forecast = m.predict(future)\n",
    "forecast[['ds', 'yhat', 'yhat_lower', 'yhat_upper']].tail()\n",
    "\n"
   ]
  },
  {
   "cell_type": "code",
   "execution_count": null,
   "id": "4aacf5af-879f-4337-a274-bfbdd738588d",
   "metadata": {},
   "outputs": [],
   "source": [
    "\n",
    "\n",
    "# Graficar usando Prophet\n",
    "fig1 = m.plot(forecast)\n",
    "\n",
    "# Personalizar los ejes\n",
    "ax = fig1.gca()  # Obtener los ejes actuales de la figura\n",
    "ax.set_xlim(['2024-01-01', '2025-09-30'])  # Cambiar límites del eje x (fechas)\n",
    "ax.set_ylim([0, 50])  # Cambiar límites del eje y (valores)\n",
    "\n",
    "# Etiquetas personalizadas\n",
    "ax.set_xlabel('Fecha', fontsize=12)\n",
    "ax.set_ylabel('Valor', fontsize=12)\n",
    "\n",
    "# Mostrar la gráfica\n",
    "plt.show()"
   ]
  },
  {
   "cell_type": "code",
   "execution_count": null,
   "id": "e4b6c284-9562-474d-a26f-caa0349d59da",
   "metadata": {},
   "outputs": [],
   "source": []
  },
  {
   "cell_type": "code",
   "execution_count": null,
   "id": "65f83972-0a05-4668-be14-c6ac864e4d77",
   "metadata": {},
   "outputs": [],
   "source": []
  },
  {
   "cell_type": "code",
   "execution_count": null,
   "id": "e137e54d-2389-42e5-a1a7-383f74a1c973",
   "metadata": {},
   "outputs": [],
   "source": []
  },
  {
   "cell_type": "code",
   "execution_count": null,
   "id": "ba72276b-034c-4293-97a8-ef5baa7bed92",
   "metadata": {},
   "outputs": [],
   "source": []
  },
  {
   "cell_type": "code",
   "execution_count": null,
   "id": "f74edf42-824b-4acc-9181-5b3c73b8b53d",
   "metadata": {},
   "outputs": [],
   "source": []
  },
  {
   "cell_type": "code",
   "execution_count": null,
   "id": "4265acc5-038e-49dd-b7d1-a3a144b847d4",
   "metadata": {},
   "outputs": [],
   "source": []
  },
  {
   "cell_type": "code",
   "execution_count": null,
   "id": "4e773dbe-4724-4a9e-9883-4206299b6498",
   "metadata": {},
   "outputs": [],
   "source": []
  },
  {
   "cell_type": "code",
   "execution_count": null,
   "id": "ff0584d4-139b-499d-b606-6441383c1dd8",
   "metadata": {},
   "outputs": [],
   "source": []
  },
  {
   "cell_type": "code",
   "execution_count": null,
   "id": "cdb9bfef-befe-4ddd-8f5d-af64eea35848",
   "metadata": {},
   "outputs": [],
   "source": []
  },
  {
   "cell_type": "code",
   "execution_count": null,
   "id": "98504d2b-7e55-47fa-b0c2-c64f389a9f3c",
   "metadata": {},
   "outputs": [],
   "source": []
  },
  {
   "cell_type": "code",
   "execution_count": null,
   "id": "b74d3d5a-379f-4c5c-bdc3-0bd3bc78009e",
   "metadata": {},
   "outputs": [],
   "source": []
  },
  {
   "cell_type": "code",
   "execution_count": null,
   "id": "ae81b7a5-e4f3-4cad-99e7-208827d3504c",
   "metadata": {},
   "outputs": [],
   "source": []
  },
  {
   "cell_type": "code",
   "execution_count": null,
   "id": "38fa81e0-c0a9-4d90-b245-314e95e108d7",
   "metadata": {},
   "outputs": [],
   "source": []
  },
  {
   "cell_type": "code",
   "execution_count": null,
   "id": "5ae46f73-e36b-4632-b450-d9bbfe9a13cc",
   "metadata": {},
   "outputs": [],
   "source": []
  },
  {
   "cell_type": "code",
   "execution_count": null,
   "id": "55620b26-ed70-496e-85d3-6caf0a09a207",
   "metadata": {},
   "outputs": [],
   "source": []
  },
  {
   "cell_type": "code",
   "execution_count": null,
   "id": "9ce62114-2bd5-4e1b-9ebc-e64cf2c80523",
   "metadata": {},
   "outputs": [],
   "source": []
  },
  {
   "cell_type": "code",
   "execution_count": null,
   "id": "7dc22e8c-86d0-4672-b3ed-9fb74e05aa1a",
   "metadata": {},
   "outputs": [],
   "source": []
  },
  {
   "cell_type": "code",
   "execution_count": null,
   "id": "bd327a8e-d39f-4398-b83a-ead3cf3785d7",
   "metadata": {},
   "outputs": [],
   "source": []
  },
  {
   "cell_type": "code",
   "execution_count": null,
   "id": "0ed41ac8-c613-4708-acd4-4aa78891c8c1",
   "metadata": {},
   "outputs": [],
   "source": []
  },
  {
   "cell_type": "code",
   "execution_count": null,
   "id": "5a7d5fa8-20d6-45ff-b9f3-923724f9b18a",
   "metadata": {},
   "outputs": [],
   "source": []
  },
  {
   "cell_type": "code",
   "execution_count": null,
   "id": "a9c3d387-b1d6-4867-9fcc-b16c0fad2b54",
   "metadata": {},
   "outputs": [],
   "source": []
  },
  {
   "cell_type": "code",
   "execution_count": null,
   "id": "25b83fad-421f-472e-b22f-989155bede0a",
   "metadata": {},
   "outputs": [],
   "source": []
  }
 ],
 "metadata": {
  "kernelspec": {
   "display_name": "Python 3 (ipykernel)",
   "language": "python",
   "name": "python3"
  },
  "language_info": {
   "codemirror_mode": {
    "name": "ipython",
    "version": 3
   },
   "file_extension": ".py",
   "mimetype": "text/x-python",
   "name": "python",
   "nbconvert_exporter": "python",
   "pygments_lexer": "ipython3",
   "version": "3.12.4"
  }
 },
 "nbformat": 4,
 "nbformat_minor": 5
}
