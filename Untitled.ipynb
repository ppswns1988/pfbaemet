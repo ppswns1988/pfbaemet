{
 "cells": [
  {
   "cell_type": "code",
   "execution_count": 5,
   "id": "718fa320-adb0-4907-a1f9-82681c818122",
   "metadata": {},
   "outputs": [],
   "source": [
    "# Python\n",
    "import pandas as pd\n",
    "from tqdm import tqdm\n",
    "import time\n",
    "import matplotlib.pyplot as plt\n",
    "from prophet import Prophet\n",
    "import mysql\n",
    "import mysql.connector\n",
    "import pymysql\n",
    "import joblib\n",
    "import dyplot\n",
    "from joblib import load\n",
    "from datetime import datetime\n",
    "from sklearn.metrics import mean_absolute_error"
   ]
  },
  {
   "cell_type": "code",
   "execution_count": 7,
   "id": "9d1a0eaf-f0dc-4b87-aca1-650a831c37c7",
   "metadata": {},
   "outputs": [
    {
     "name": "stdout",
     "output_type": "stream",
     "text": [
      "<class 'pandas.core.frame.DataFrame'>\n"
     ]
    }
   ],
   "source": [
    "model = load(\"f_prophet_daily.pkl\")\n",
    "print(type(model))"
   ]
  },
  {
   "cell_type": "code",
   "execution_count": null,
   "id": "d942c81a-fe0e-45c0-9a92-209702263dc7",
   "metadata": {},
   "outputs": [],
   "source": []
  },
  {
   "cell_type": "code",
   "execution_count": null,
   "id": "fc9329ae-0b98-4066-8e92-1be4e5430580",
   "metadata": {},
   "outputs": [],
   "source": []
  }
 ],
 "metadata": {
  "kernelspec": {
   "display_name": "Python 3 (ipykernel)",
   "language": "python",
   "name": "python3"
  },
  "language_info": {
   "codemirror_mode": {
    "name": "ipython",
    "version": 3
   },
   "file_extension": ".py",
   "mimetype": "text/x-python",
   "name": "python",
   "nbconvert_exporter": "python",
   "pygments_lexer": "ipython3",
   "version": "3.12.2"
  }
 },
 "nbformat": 4,
 "nbformat_minor": 5
}
